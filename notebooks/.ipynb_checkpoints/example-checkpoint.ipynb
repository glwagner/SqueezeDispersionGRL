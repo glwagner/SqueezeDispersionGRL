{
 "cells": [
  {
   "cell_type": "code",
   "execution_count": 1,
   "metadata": {},
   "outputs": [
    {
     "name": "stderr",
     "output_type": "stream",
     "text": [
      "┌ Info: Recompiling stale cache file /Users/gregorywagner/.julia/compiled/v0.7/SqueezeDispersion/TsKDn.ji for SqueezeDispersion [b60af848-b6c1-11e8-3789-85de93651b40]\n",
      "└ @ Base loading.jl:1185\n"
     ]
    }
   ],
   "source": [
    "using Pkg\n",
    "Pkg.activate(\"..\")\n",
    "\n",
    "using JLD2, FileIO, Printf, PyPlot\n",
    "using SqueezeDispersion\n",
    "using PyPlotPlus\n",
    "\n",
    "usecmbright()"
   ]
  },
  {
   "cell_type": "code",
   "execution_count": 2,
   "metadata": {},
   "outputs": [],
   "source": [
    "name = \"figure2\"\n",
    "\n",
    "delta = 0.5\n",
    "nx, ny = 512, 512\n",
    "H = 1.0\n",
    "L = 20.0\n",
    "\n",
    "filename = @sprintf(\"%s_nx%04d_ny%04d_delta%d.jld2\", name, nx, ny, 100delta)\n",
    "filepath = joinpath(\"..\", \"data\", filename);"
   ]
  },
  {
   "cell_type": "code",
   "execution_count": 2,
   "metadata": {},
   "outputs": [
    {
     "ename": "UndefVarError",
     "evalue": "UndefVarError: getkappa not defined",
     "output_type": "error",
     "traceback": [
      "UndefVarError: getkappa not defined",
      "",
      "Stacktrace:",
      " [1] top-level scope at In[2]:1"
     ]
    }
   ],
   "source": [
    "κ      = getkappa(filepath)\n",
    "X, Y   = getgrid(filepath)\n",
    "dx, dy = getgridspacing(filepath)\n",
    "mask   = wavychannelmask(delta, H, L, X, Y)\n",
    "\n",
    "x, y = X[:, 1], Y[1, :]\n",
    "∬(c) = dx*dy*sum(c);"
   ]
  },
  {
   "cell_type": "code",
   "execution_count": 10,
   "metadata": {},
   "outputs": [],
   "source": [
    "# Calculate enhancement in analytical bathymetric-coordinate theory\n",
    "theorydeltas = 0.0:0.01:0.8                                                                                              \n",
    "theoryenhancements = fill(0.0, size(theorydeltas))                                                                       \n",
    "for (i, del) in enumerate(theorydeltas)                                                                                  \n",
    "    h(x) = 1 - del*sin(2π*x/L)                                                                                             \n",
    "    theoryenhancements[i] = constantkappaenhancement(del)                                                                  \n",
    "end\n",
    "\n",
    "hotspotenhancements = @. 1/(1-theorydeltas);"
   ]
  },
  {
   "cell_type": "code",
   "execution_count": 11,
   "metadata": {},
   "outputs": [
    {
     "ename": "UndefVarError",
     "evalue": "UndefVarError: X not defined",
     "output_type": "error",
     "traceback": [
      "UndefVarError: X not defined",
      "",
      "Stacktrace:",
      " [1] (::getfield(Main, Symbol(\"##5#6\")))(::JLD2.JLDFile{JLD2.MmapIO}) at ./In[11]:18",
      " [2] #jldopen#31(::Base.Iterators.Pairs{Union{},Union{},Tuple{},NamedTuple{(),Tuple{}}}, ::Function, ::getfield(Main, Symbol(\"##5#6\")), ::String, ::Vararg{String,N} where N) at /Users/gregorywagner/.julia/packages/JLD2/KjBIK/src/loadsave.jl:4",
      " [3] jldopen(::Function, ::String, ::String) at /Users/gregorywagner/.julia/packages/JLD2/KjBIK/src/loadsave.jl:2",
      " [4] top-level scope at In[11]:12"
     ]
    }
   ],
   "source": [
    "# Make plot\n",
    "fs = 16\n",
    "margin = 0.05\n",
    "cmin = 0.0\n",
    "cmax = 10.0\n",
    "idpx = ceil(Int, nx/40)\n",
    "\n",
    "fig, axs = subplots(ncols=2, figsize=(14.2, 4), gridspec_kw=Dict(\"width_ratios\"=>[2, 1]))\n",
    "\n",
    "# Timelapse\n",
    "sca(axs[1])\n",
    "\n",
    "jldopen(filepath, \"r\") do file\n",
    "    steps = parse.(Int, keys(file[\"timeseries/c\"]))\n",
    "    nsteps = length(steps)\n",
    "    for (i, step) in enumerate(steps)\n",
    "        c = file[\"timeseries/c/$step\"]\n",
    "        ξ = ∬(X.*c)\n",
    "        ζ = ∬(Y.*c)\n",
    "        \n",
    "        iξ = searchsortedfirst(x, ξ)\n",
    "        @printf(\"i: %2d, ξ/L: %.2f, iξ: %d; fractional tracer center: %.2f\\n\", i, ξ/L, iξ, iξ/nx)\n",
    "        ii = (iξ-idpx):(iξ+idpx)\n",
    "        \n",
    "        pcolormesh(X[ii, :]/L, Y[ii, :]/H, c[ii, :], cmap=\"Purples\", vmin=cmin, vmax=cmax)\n",
    "    end\n",
    "end\n",
    "\n",
    "# Draw bottom topography\n",
    "mask = sinusoidalbathymetrymask(delta, H, L, prob.grid)                                                               \n",
    "bottom = fill(1.0, size(X))                                                                                           \n",
    "bottom[.!mask] .= NaN                                                                                                 \n",
    "pcolormesh(X/L, Y/H, bottom, vmin=0, vmax=4, cmap=\"Greys\")                                                            \n",
    "\n",
    "# Draw streamlines                                                                                                    \n",
    "k₁ = 2π/L                                                                                                             \n",
    "hh = @. H*(1 - delta*sin(k₁*X))                                                                                       \n",
    "ψ = Y*U./hh                                                                                                           \n",
    "dψ = 0.1                                                                                                              \n",
    "contour(X/L, Y/H, ψ, levels=(-1+dψ):dψ:-dψ, linewidths=0.5, colors=\"k\", alpha=0.1, linestyles=\"solid\")                \n",
    "\n",
    "xlabel(L\"x/L\")                                                                                                        \n",
    "ylabel(L\"y/H\")                                                                                                        \n",
    "xlim(-margin, 1+margin)                                                                                               \n",
    "ylim(-(1+delta*1.1), 0.0)                                                                                             \n",
    "aspectratio(2H/L)\n",
    "\n",
    "# Formatting                                                                                                            \n",
    "xlabel(L\"x/L\", labelpad=8.0)\n",
    "ylabel(L\"z/\\langle H \\rangle\", labelpad=8.0)\n",
    "xlim(-margin, 1+margin)\n",
    "ylim(-(1+ep*1.1), 0.0)\n",
    "aspectratio(1.5*H/L)\n",
    "xticks([0, 0.5, 1.0])\n",
    "yticks([-1.0, -0.5, 0.0])\n",
    "text(0.008, 0.84, \"(a)\", transform=axs[1][:transAxes], ha=\"left\", va=\"bottom\", fontsize=fs)\n",
    "\n",
    "\n",
    "# Diffusion enhancement demonstration\n",
    "sca(axs[2])\n",
    "\n",
    "plot(numericaldeltas, numericalenhancements, \"o\"; color=\"C0\", markerfacecolor=\"none\", linewidth=4, label=\"Simulation\")                                                                                              \n",
    "plot(theorydeltas, theoryenhancements, \"-\"; color=\"C0\", linewidth=2, label=\"Eq 5, const \\$ \\\\kappa \\$\"))                                  \n",
    "plot(theorydeltas, hotspotenhancements, \"-\"; color=\"C1\", linewidth=2, label=\"Eq 5, \\$ \\\\kappa \\\\propto \\\\delta(x-L/4) \\$\")\n",
    "\n",
    "xlabel(\"Relative topographic height \\$ \\\\Delta \\$\", labelpad=8.0)\n",
    "ylabel(\"Squeeze-induced diffusivity ratio \\$ \\\\kappa_s/\\\\langle\\\\kappa\\\\rangle \\$\", labelpad=12.0)\n",
    "cornerspines(side=\"right\")\n",
    "axisright()\n",
    "legend(loc=\"upper left\", markerscale=1, fontsize=14, bbox_to_anchor=(0.05, 0.9))\n",
    "text(0, 0.9, \"(b)\", transform=axs[2][:transAxes], ha=\"left\", va=\"bottom\", fontsize=fs)\n",
    "\n",
    "tight_layout(w_pad=4.0)\n",
    "\n",
    "plotname = \"example.png\"\n",
    "savefig(plotname, dpi=960)"
   ]
  },
  {
   "cell_type": "code",
   "execution_count": 7,
   "metadata": {},
   "outputs": [],
   "source": [
    "#cp(plotname, joinpath(\"..\", \"draft\", plotname), remove_destination=true)"
   ]
  },
  {
   "cell_type": "code",
   "execution_count": null,
   "metadata": {},
   "outputs": [],
   "source": []
  },
  {
   "cell_type": "code",
   "execution_count": null,
   "metadata": {},
   "outputs": [],
   "source": []
  }
 ],
 "metadata": {
  "kernelspec": {
   "display_name": "Julia 0.7.0",
   "language": "julia",
   "name": "julia-0.7"
  },
  "language_info": {
   "file_extension": ".jl",
   "mimetype": "application/julia",
   "name": "julia",
   "version": "0.7.0"
  }
 },
 "nbformat": 4,
 "nbformat_minor": 2
}
