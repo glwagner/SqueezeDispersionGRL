{
 "cells": [
  {
   "cell_type": "code",
   "execution_count": 1,
   "metadata": {},
   "outputs": [
    {
     "name": "stderr",
     "output_type": "stream",
     "text": [
      "┌ Info: Recompiling stale cache file /Users/gregorywagner/.julia/compiled/v0.7/JLD2/O1EyT.ji for JLD2 [033835bb-8acc-5ee8-8aae-3f567f8a3819]\n",
      "└ @ Base loading.jl:1185\n"
     ]
    },
    {
     "ename": "ArgumentError",
     "evalue": "ArgumentError: Package FileIO not found in current path:\n- Run `Pkg.add(\"FileIO\")` to install the FileIO package.\n",
     "output_type": "error",
     "traceback": [
      "ArgumentError: Package FileIO not found in current path:\n- Run `Pkg.add(\"FileIO\")` to install the FileIO package.\n",
      "",
      "Stacktrace:",
      " [1] require(::Module, ::Symbol) at ./loading.jl:817",
      " [2] top-level scope at In[1]:1"
     ]
    }
   ],
   "source": [
    "using JLD2, FileIO, Interpolations, DataStructures\n",
    "using PyPlot\n",
    "using Samoan, PyPlotPlus\n",
    "\n",
    "usecmbright()"
   ]
  },
  {
   "cell_type": "code",
   "execution_count": 2,
   "metadata": {},
   "outputs": [
    {
     "ename": "UndefVarError",
     "evalue": "UndefVarError: load not defined",
     "output_type": "error",
     "traceback": [
      "UndefVarError: load not defined",
      "",
      "Stacktrace:",
      " [1] top-level scope at In[2]:2"
     ]
    }
   ],
   "source": [
    "filepath = joinpath(\"..\", \"data\", \"samoan2012data.jld2\")\n",
    "ctd = load(filepath, \"ctd\")\n",
    "vmp = load(filepath, \"microstructure\")\n",
    "nvmp = length(vmp)\n",
    "\n",
    "ctdcast, ctdlon, ctdlat, ctdp, ctdt, ctdsp, ctdsa, ctdsigma4, ctddepth = unpacksection9(ctd)\n",
    "nz, nctd = size(ctdsigma4);\n",
    "println(\"CTD data size: ndepth = $nz, nctd = $nctd. VMP: nvmp = $nvmp\")"
   ]
  },
  {
   "cell_type": "code",
   "execution_count": 3,
   "metadata": {},
   "outputs": [
    {
     "name": "stderr",
     "output_type": "stream",
     "text": [
      "┌ Warning: `cat(dims, As...)` is deprecated, use `cat(As..., dims=dims)` instead.\n",
      "│   caller = top-level scope at In[3]:6\n",
      "└ @ Core In[3]:6\n"
     ]
    },
    {
     "name": "stdout",
     "output_type": "stream",
     "text": [
      "nlayers = 21\n"
     ]
    }
   ],
   "source": [
    "# Define density layers\n",
    "sigmatop = 45.86\n",
    "sigmabot = 45.96\n",
    "dsigma = 0.005\n",
    "layers = sigmatop:dsigma:sigmabot\n",
    "#layeredges = cat(1, [sigmatop-dsigma/2], layers)\n",
    "layeredges = cat(1, [sigmatop-dsigma/2], 0.5*(layers[2:end] + layers[1:end-1]), \n",
    "    [sigmabot+dsigma/2])\n",
    "nlayers = length(layers)\n",
    "println(\"nlayers = $nlayers\")\n",
    "\n",
    "#layeredges = linspace(sigmatop, sigmabot, nlayers+1)\n",
    "#layers = 0.5*(layeredges[1:end-1] + layeredges[2:end]);"
   ]
  },
  {
   "cell_type": "code",
   "execution_count": 4,
   "metadata": {},
   "outputs": [
    {
     "ename": "UndefVarError",
     "evalue": "UndefVarError: nctd not defined",
     "output_type": "error",
     "traceback": [
      "UndefVarError: nctd not defined",
      "",
      "Stacktrace:",
      " [1] top-level scope at In[4]:1"
     ]
    }
   ],
   "source": [
    "# CTD thickness analysis\n",
    "ctdthickness = zeros(nlayers, nctd)\n",
    "\n",
    "for i = 1:nctd\n",
    "    goodidx = .!isnan.(ctdsigma4[:, i])\n",
    "    goodsigma = ctdsigma4[goodidx, i]\n",
    "    gooddepth = ctddepth[goodidx]\n",
    "    smoothoverturns!(goodsigma)\n",
    "    \n",
    "    interpsig = interpolate((goodsigma,), gooddepth, Gridded(Linear()))\n",
    "    edgedepths = interpsig[layeredges]\n",
    "    ctdthickness[:, i] = edgedepths[2:end] - edgedepths[1:end-1]   \n",
    "end\n",
    "\n",
    "# VMP thickness analysis\n",
    "layersamples, layerkappa, vmpthickness = vmplayeranalysis(vmp, layeredges)\n",
    "#@sprintf(\"max depth: %.2f, mindepth: %.2f\", \n",
    "#    nanmaximum(vmpedgedepths), nanminimum(vmpedgedepths))\n",
    "\n",
    "# Mean thickness\n",
    "   meanthickness = squeeze(nanmean(cat(2, vmpthickness, ctdthickness), 2), 2)\n",
    "meanvmpthickness = squeeze(nanmean(vmpthickness, 2), 2)\n",
    "meanctdthickness = squeeze(nanmean(ctdthickness, 2), 2)\n",
    "\n",
    " kappa_squeeze = effectivekappa(layerkappa, vmpthickness; pow=1, meanthickness=meanthickness)\n",
    "kappa_squeeze2 = effectivekappa(layerkappa, vmpthickness; pow=2, meanthickness=meanthickness)\n",
    "   kappa_naive = squeeze(nanmean(layerkappa, 2), 2)\n",
    "\n",
    "kappa_scaled = @. layerkappa*meanvmpthickness/vmpthickness\n",
    "\n",
    "for (i, n) in enumerate(sum(layersamples, 2))\n",
    "    @printf(\"sigma: %.5f, mean thickness: %.2f, samples: %d\\n\", layers[i], meanvmpthickness[i], n)\n",
    "end\n",
    "println(median(meanvmpthickness))"
   ]
  },
  {
   "cell_type": "code",
   "execution_count": 5,
   "metadata": {},
   "outputs": [
    {
     "ename": "UndefVarError",
     "evalue": "UndefVarError: subplots not defined",
     "output_type": "error",
     "traceback": [
      "UndefVarError: subplots not defined",
      "",
      "Stacktrace:",
      " [1] top-level scope at In[5]:18"
     ]
    }
   ],
   "source": [
    "# Plot\n",
    "\n",
    "## Parameters\n",
    "      ms0 = 4\n",
    "      ms1 = 6\n",
    "      ms2 = 10\n",
    "    alpha = 0.6\n",
    "  legsize = 10\n",
    "xlabelpad = 12.0\n",
    "    maxms = 10\n",
    " vmpcolor = \"xkcd:maroon\"\n",
    " ctdcolor = \"xkcd:dark cyan\"\n",
    "vmpsymbol = \"^\"\n",
    "ctdsymbol = \"+\"\n",
    "xtextpos = 0.03\n",
    "ytextpos = 0.93\n",
    "fs = 16\n",
    "\n",
    "fig, axs = subplots(ncols=3, figsize=(10, 5), sharey=true,  gridspec_kw=Dict(\"width_ratios\"=>[1, 2, 1]))\n",
    "\n",
    "# Thickness\n",
    "sca(axs[1])\n",
    "plot(vmpthickness, layers, vmpsymbol, color=vmpcolor, markeredgecolor=\"None\", alpha=alpha, ms=ms0)\n",
    "plot(ctdthickness, layers, ctdsymbol, color=ctdcolor, markeredgecolor=ctdcolor, alpha=alpha, ms=ms0)\n",
    "plot(meanthickness, layers, \"s\", color=\"xkcd:soft green\", markeredgecolor=\"None\", alpha=0.8, ms=ms2, label=\"Avg\")\n",
    "\n",
    "# For labeling\n",
    "plot(vmpthickness[1], layers[1], vmpsymbol, color=vmpcolor, markeredgecolor=\"None\", alpha=alpha, ms=ms0, label=\"VMP\")\n",
    "plot(ctdthickness[1], layers[1], ctdsymbol, color=ctdcolor, markeredgecolor=ctdcolor, alpha=alpha, ms=ms1, label=\"CTD\")\n",
    "\n",
    "xscale(\"log\")\n",
    "xlim(1, 400)\n",
    "cornerspines()\n",
    "\n",
    "xticks([1, 10, 100])\n",
    "xlabel(\"Thickness \\$ h \\$ (m)\", labelpad=12.0)\n",
    "ylabel(\"Layer potential density \\$ \\\\rho \\$ (\\$ \\\\mathrm{kg/m^3} \\$)\", labelpad=xlabelpad)\n",
    "legend(loc=\"upper left\", bbox_to_anchor=(0.04, 0.92), \n",
    "       prop=Dict(\"size\"=>legsize), markerscale=1.0, markerfirst=true, frameon=true,\n",
    "       handletextpad=0.05)\n",
    "\n",
    "\n",
    "# Kappa\n",
    "sca(axs[2])\n",
    "scaledms = min.(maxms, @. ms0 * (meanthickness / vmpthickness)^(1/2))\n",
    "        \n",
    "plot(layerkappa, layers, \"o\", color=\"xkcd:bright blue\", markeredgecolor=\"None\", alpha=alpha, ms=ms0)\n",
    "plot(kappa_scaled, layers, \"*\", color=\"xkcd:rose\", markeredgecolor=\"None\", alpha=alpha, ms=ms1)\n",
    "plot(kappa_naive, layers, \"s\", color=\"xkcd:rust\", markeredgecolor=\"None\", alpha=0.6, ms=ms2, label=\"Naive avg\")\n",
    "plot(kappa_squeeze, layers, \"s\", color=\"xkcd:black\", markeredgecolor=\"None\", alpha=0.7, ms=ms2, label=\"Squeeze avg\")\n",
    "\n",
    "plot(layerkappa[1], layers[1], \"o\", color=\"xkcd:bright blue\", markeredgecolor=\"None\", alpha=0.4, ms=ms0, \n",
    "     label=L\"\\kappa_i(\\rho)\")\n",
    "plot(kappa_scaled[1], layers[1], \"*\", color=\"xkcd:rose\", markeredgecolor=\"None\", alpha=alpha, ms=ms1, \n",
    "     label=L\"\\kappa_i(\\rho) \\langle h \\rangle / h_i(\\rho)\")\n",
    "\n",
    "xscale(\"log\")\n",
    "xlim(1e-7, 1e-1)\n",
    "xticks([1e-6, 1e-5, 1e-4, 1e-3, 1e-2])\n",
    "bottomspine()\n",
    "axs[2][:tick_params](axis=\"y\", which=\"both\", labelleft=false, left=false)\n",
    "xlabel(\"Layer-averaged \\$ \\\\kappa \\$ (\\$ \\\\mathrm{m^2/s} \\$)\", labelpad=(xlabelpad-1.5))\n",
    "legend(loc=\"upper right\", bbox_to_anchor=(1.0, 0.98), \n",
    "       prop=Dict(\"size\"=>legsize), markerfirst=false, markerscale=1.0, borderaxespad=0.0, frameon=true, handletextpad=0.05)\n",
    "\n",
    "# Enhancement\n",
    "sca(axs[3])\n",
    "plot(kappa_squeeze./kappa_naive, layers, \"s\", color=\"xkcd:purplish blue\", markeredgecolor=\"None\", ms=ms2, alpha=0.7, label=\"2D approx\")\n",
    "plot([1, 1], layeredges[[1, end]], \"k-\", linewidth=0.5, alpha=0.5)\n",
    "\n",
    "cornerspines(side=\"right\")\n",
    "axisright()\n",
    "xscale(\"log\")\n",
    "xlim(0.4, 3.3)\n",
    "xlabel(\"\\$ \\\\kappa_s / \\\\langle \\\\kappa \\\\rangle \\$\", labelpad=(xlabelpad+.5))\n",
    "ylabel(\"Layer potential density \\$ \\\\rho \\$ (\\$ \\\\mathrm{kg/m^3} \\$)\", labelpad=12.0)\n",
    "\n",
    "xticks([0.5, 1, 2, 3], [L\"\\tfrac{1}{2}\", \"1\", \"2\", \"3\"])\n",
    "scalartickformat(:x)\n",
    "\n",
    "ylim(45.855, 45.963)\n",
    "invertaxis()\n",
    "\n",
    "text(xtextpos, ytextpos, \"(c)\", transform=axs[1][:transAxes], ha=\"left\", va=\"bottom\", fontsize=fs)\n",
    "text(xtextpos, ytextpos, \"(d)\", transform=axs[2][:transAxes], ha=\"left\", va=\"bottom\", fontsize=fs)\n",
    "text(xtextpos, ytextpos, \"(e)\", transform=axs[3][:transAxes], ha=\"left\", va=\"bottom\", fontsize=fs)\n",
    "\n",
    "tight_layout(w_pad=2.0)\n",
    "\n",
    "plotname = \"samoanresults.png\"\n",
    "savefig(plotname, dpi=960)"
   ]
  },
  {
   "cell_type": "code",
   "execution_count": 6,
   "metadata": {},
   "outputs": [
    {
     "ename": "UndefVarError",
     "evalue": "UndefVarError: plotname not defined",
     "output_type": "error",
     "traceback": [
      "UndefVarError: plotname not defined",
      "",
      "Stacktrace:",
      " [1] top-level scope at In[6]:1"
     ]
    }
   ],
   "source": [
    "cp(plotname, joinpath(\"..\", \"draft\", plotname), remove_destination=true)"
   ]
  },
  {
   "cell_type": "code",
   "execution_count": null,
   "metadata": {},
   "outputs": [],
   "source": []
  }
 ],
 "metadata": {
  "kernelspec": {
   "display_name": "Julia 0.7.0",
   "language": "julia",
   "name": "julia-0.7"
  },
  "language_info": {
   "file_extension": ".jl",
   "mimetype": "application/julia",
   "name": "julia",
   "version": "0.7.0"
  }
 },
 "nbformat": 4,
 "nbformat_minor": 2
}
